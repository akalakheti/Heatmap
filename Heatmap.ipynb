{
  "nbformat": 4,
  "nbformat_minor": 0,
  "metadata": {
    "colab": {
      "name": "Heatmap.ipynb",
      "provenance": [],
      "collapsed_sections": [],
      "include_colab_link": true
    },
    "kernelspec": {
      "name": "python3",
      "display_name": "Python 3"
    }
  },
  "cells": [
    {
      "cell_type": "markdown",
      "metadata": {
        "id": "view-in-github",
        "colab_type": "text"
      },
      "source": [
        "<a href=\"https://colab.research.google.com/github/akalakheti/Heatmap/blob/master/Heatmap.ipynb\" target=\"_parent\"><img src=\"https://colab.research.google.com/assets/colab-badge.svg\" alt=\"Open In Colab\"/></a>"
      ]
    },
    {
      "cell_type": "markdown",
      "metadata": {
        "id": "q-BKnuIDeVGU",
        "colab_type": "text"
      },
      "source": [
        "# **Tutorial for visualizing activation heatmaps**"
      ]
    },
    {
      "cell_type": "markdown",
      "metadata": {
        "id": "91k_Z3Xveniq",
        "colab_type": "text"
      },
      "source": [
        "# 1. Import all the libraries required"
      ]
    },
    {
      "cell_type": "code",
      "metadata": {
        "id": "9L8sbPUmHKsA",
        "colab_type": "code",
        "colab": {}
      },
      "source": [
        "import cv2 #For image processing\n",
        "import numpy as np # for math operation\n",
        "import tensorflow as tf # main framework"
      ],
      "execution_count": 0,
      "outputs": []
    },
    {
      "cell_type": "markdown",
      "metadata": {
        "id": "tsFm37WJlP3x",
        "colab_type": "text"
      },
      "source": [
        "# Load Image for processing with the size 224x224\n",
        "(You could use image with any size but the model we will be using requires an image with size 224 x 224 )"
      ]
    },
    {
      "cell_type": "code",
      "metadata": {
        "id": "8zZJRXprSiWf",
        "colab_type": "code",
        "colab": {}
      },
      "source": [
        "IMAGE_PATH = 'bee.jpg'\n",
        "image = tf.keras.preprocessing.image.load_img(IMAGE_PATH, target_size=(224, 224))\n",
        "image = tf.keras.preprocessing.image.img_to_array(image)"
      ],
      "execution_count": 0,
      "outputs": []
    },
    {
      "cell_type": "markdown",
      "metadata": {
        "id": "lzvFbh0nleD4",
        "colab_type": "text"
      },
      "source": [
        "# Download a pre-trained classification model or create your own\n",
        "(For this example, we will be using pre-trained vgg16 model)"
      ]
    },
    {
      "cell_type": "code",
      "metadata": {
        "id": "IloU4CgaSEMw",
        "colab_type": "code",
        "outputId": "e7cd27c1-2a2e-43aa-b11d-2815b7c741f9",
        "colab": {
          "base_uri": "https://localhost:8080/",
          "height": 50
        }
      },
      "source": [
        "model = tf.keras.applications.VGG16(weights='imagenet', include_top=True)\n",
        "\n",
        "conv_layer = model.get_layer(\"block5_conv3\") #Get the last convolation layer\n",
        "\n",
        "CAM_model = tf.keras.models.Model([model.inputs], [conv_layer.output, model.output]) #Create a model that outputs target convolution and output\n",
        "\n",
        "\n",
        "CLASS_INDEX = 309 #Index of the class you want to classify in the output layer of model"
      ],
      "execution_count": 0,
      "outputs": [
        {
          "output_type": "stream",
          "text": [
            "Downloading data from https://github.com/fchollet/deep-learning-models/releases/download/v0.1/vgg16_weights_tf_dim_ordering_tf_kernels.h5\n",
            "553467904/553467096 [==============================] - 17s 0us/step\n"
          ],
          "name": "stdout"
        }
      ]
    },
    {
      "cell_type": "markdown",
      "metadata": {
        "id": "2LRNFh9QmpNx",
        "colab_type": "text"
      },
      "source": [
        "# Find the score for target class"
      ]
    },
    {
      "cell_type": "code",
      "metadata": {
        "id": "-Hxizg04USlB",
        "colab_type": "code",
        "colab": {}
      },
      "source": [
        "\n",
        "with tf.GradientTape() as tape:\n",
        "    otpts, predictions = CAM_model(np.array([image]))\n",
        "    loss = predictions[:, CLASS_INDEX]\n"
      ],
      "execution_count": 0,
      "outputs": []
    },
    {
      "cell_type": "markdown",
      "metadata": {
        "id": "1cEhoJbimzjo",
        "colab_type": "text"
      },
      "source": [
        "# Get the filters and gradients from above calculation"
      ]
    },
    {
      "cell_type": "code",
      "metadata": {
        "id": "QwJ44CKyaq6P",
        "colab_type": "code",
        "colab": {}
      },
      "source": [
        "output = otpts[0]\n",
        "grads = tape.gradient(loss, otpts)[0]"
      ],
      "execution_count": 0,
      "outputs": []
    },
    {
      "cell_type": "code",
      "metadata": {
        "id": "YmV6pdJJcAP0",
        "colab_type": "code",
        "colab": {}
      },
      "source": [
        "weights = tf.reduce_mean(grads, axis=(0, 1)) #Average the gradient obtained."
      ],
      "execution_count": 0,
      "outputs": []
    },
    {
      "cell_type": "markdown",
      "metadata": {
        "id": "iAKsMsiPnYwf",
        "colab_type": "text"
      },
      "source": [
        "# Create a Numpy array according to gradient importance and calculate weighted output"
      ]
    },
    {
      "cell_type": "code",
      "metadata": {
        "id": "qEOghmymcO_C",
        "colab_type": "code",
        "colab": {}
      },
      "source": [
        "weighted_cam = np.ones(output.shape[0:2], dtype=np.float32)"
      ],
      "execution_count": 0,
      "outputs": []
    },
    {
      "cell_type": "code",
      "metadata": {
        "id": "rJLdfUnzcwyS",
        "colab_type": "code",
        "colab": {}
      },
      "source": [
        "for i, w in enumerate(weights):\n",
        "    weighted_cam += w * output[:, :, i]\n"
      ],
      "execution_count": 0,
      "outputs": []
    },
    {
      "cell_type": "markdown",
      "metadata": {
        "id": "WCIS7o52nr_4",
        "colab_type": "text"
      },
      "source": [
        "# Use the weighted numpy array along with cv2 library to convert it into an image"
      ]
    },
    {
      "cell_type": "code",
      "metadata": {
        "id": "Lhjvkp-YdBba",
        "colab_type": "code",
        "colab": {}
      },
      "source": [
        "weighted_cam = cv2.resize(weighted_cam.numpy(), (224, 224))\n",
        "weighted_cam = np.maximum(weighted_cam, 0)\n",
        "heatmap = (weighted_cam - weighted_cam.min()) / (weighted_cam.max() - weighted_cam.min())"
      ],
      "execution_count": 0,
      "outputs": []
    },
    {
      "cell_type": "code",
      "metadata": {
        "id": "VCbycj_8dQSq",
        "colab_type": "code",
        "colab": {}
      },
      "source": [
        "weighted_cam = cv2.applyColorMap(np.uint8(255*heatmap), cv2.COLORMAP_JET) # create the heatmap image\n",
        "output_image = cv2.addWeighted(cv2.cvtColor(image.astype('uint8'), cv2.COLOR_RGB2BGR), 0.7, weighted_cam, 1, 0) #overlapping the heatmap with original image "
      ],
      "execution_count": 0,
      "outputs": []
    },
    {
      "cell_type": "markdown",
      "metadata": {
        "id": "dGGL4mGGoDdH",
        "colab_type": "text"
      },
      "source": [
        "# Finally, save the image."
      ]
    },
    {
      "cell_type": "code",
      "metadata": {
        "id": "TDqaC_E9dXDC",
        "colab_type": "code",
        "outputId": "80669f34-64e8-471a-fd0a-ce7260c62feb",
        "colab": {
          "base_uri": "https://localhost:8080/",
          "height": 34
        }
      },
      "source": [
        "cv2.imwrite('cam2.png', output_image)"
      ],
      "execution_count": 0,
      "outputs": [
        {
          "output_type": "execute_result",
          "data": {
            "text/plain": [
              "True"
            ]
          },
          "metadata": {
            "tags": []
          },
          "execution_count": 30
        }
      ]
    },
    {
      "cell_type": "markdown",
      "metadata": {
        "id": "u_Wm6JyCqDdI",
        "colab_type": "text"
      },
      "source": [
        "Output image: https://imgur.com/I5VPtFs"
      ]
    },
    {
      "cell_type": "code",
      "metadata": {
        "id": "m3lJ_LQ4qFyn",
        "colab_type": "code",
        "colab": {}
      },
      "source": [
        ""
      ],
      "execution_count": 0,
      "outputs": []
    }
  ]
}